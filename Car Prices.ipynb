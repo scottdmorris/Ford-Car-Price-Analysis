{
 "cells": [
  {
   "cell_type": "markdown",
   "id": "01ba7326",
   "metadata": {},
   "source": [
    "<h1> Ford Car Price Analysis - Scott Morris<h1>"
   ]
  },
  {
   "cell_type": "markdown",
   "id": "3f484f65",
   "metadata": {},
   "source": [
    "<h3>Project Introduction<h3>"
   ]
  },
  {
   "cell_type": "markdown",
   "id": "5ca12aec",
   "metadata": {},
   "source": [
    "The dataset used for this notebook comes from Kaggle. It contains a csv file containing data on Ford brand cars and their various advertised features such as price, miles per gallon, year made. Using data science, visualization, and machine learning methods, I show what we can gain from using this stored data to possibly show more insight on what makes a car more valuable. \n",
    "\n",
    "Dataset: [Ford Car Price Prediction](https://www.kaggle.com/datasets/adhurimquku/ford-car-price-prediction)"
   ]
  },
  {
   "cell_type": "code",
   "execution_count": 1,
   "id": "2e7510b0",
   "metadata": {},
   "outputs": [],
   "source": [
    "import numpy as np\n",
    "import pandas as pd\n",
    "from csv import reader\n",
    "import matplotlib.pyplot as plt \n",
    "import tqdm\n",
    "import seaborn as sns\n",
    "import sklearn\n",
    "from sklearn.preprocessing import MinMaxScaler, LabelEncoder\n",
    "from sklearn.model_selection import train_test_split\n",
    "from sklearn.linear_model import LinearRegression\n",
    "from sklearn import tree \n",
    "from sklearn.metrics import mean_squared_error, mean_absolute_error\n",
    "from xgboost import XGBClassifier"
   ]
  },
  {
   "cell_type": "markdown",
   "id": "a52608d0",
   "metadata": {},
   "source": [
    "<h1>Dataset Introduction & Observations<h1>"
   ]
  },
  {
   "cell_type": "markdown",
   "id": "33544627",
   "metadata": {},
   "source": [
    "<p>As we can see from a first look at the DataFrame, it seems to be clean and well organized. There are 9 columns within our datset: Model, Year, Price, Transmission, Mileage, Fuel Type, Tax, MPG (Miles Per Gallon), and Engine Size with 17,966 entries. There are no null values in any columns. We'll now do a deeper exploration into some of these columns individually to see if we find anything interesting to take note of.<p>"
   ]
  },
  {
   "cell_type": "code",
   "execution_count": 2,
   "id": "c7dfea65",
   "metadata": {},
   "outputs": [
    {
     "data": {
      "text/html": [
       "<div>\n",
       "<style scoped>\n",
       "    .dataframe tbody tr th:only-of-type {\n",
       "        vertical-align: middle;\n",
       "    }\n",
       "\n",
       "    .dataframe tbody tr th {\n",
       "        vertical-align: top;\n",
       "    }\n",
       "\n",
       "    .dataframe thead th {\n",
       "        text-align: right;\n",
       "    }\n",
       "</style>\n",
       "<table border=\"1\" class=\"dataframe\">\n",
       "  <thead>\n",
       "    <tr style=\"text-align: right;\">\n",
       "      <th></th>\n",
       "      <th>model</th>\n",
       "      <th>year</th>\n",
       "      <th>price</th>\n",
       "      <th>transmission</th>\n",
       "      <th>mileage</th>\n",
       "      <th>fuelType</th>\n",
       "      <th>tax</th>\n",
       "      <th>mpg</th>\n",
       "      <th>engineSize</th>\n",
       "    </tr>\n",
       "  </thead>\n",
       "  <tbody>\n",
       "    <tr>\n",
       "      <th>0</th>\n",
       "      <td>Fiesta</td>\n",
       "      <td>2017</td>\n",
       "      <td>12000</td>\n",
       "      <td>Automatic</td>\n",
       "      <td>15944</td>\n",
       "      <td>Petrol</td>\n",
       "      <td>150</td>\n",
       "      <td>57.7</td>\n",
       "      <td>1.0</td>\n",
       "    </tr>\n",
       "    <tr>\n",
       "      <th>1</th>\n",
       "      <td>Focus</td>\n",
       "      <td>2018</td>\n",
       "      <td>14000</td>\n",
       "      <td>Manual</td>\n",
       "      <td>9083</td>\n",
       "      <td>Petrol</td>\n",
       "      <td>150</td>\n",
       "      <td>57.7</td>\n",
       "      <td>1.0</td>\n",
       "    </tr>\n",
       "    <tr>\n",
       "      <th>2</th>\n",
       "      <td>Focus</td>\n",
       "      <td>2017</td>\n",
       "      <td>13000</td>\n",
       "      <td>Manual</td>\n",
       "      <td>12456</td>\n",
       "      <td>Petrol</td>\n",
       "      <td>150</td>\n",
       "      <td>57.7</td>\n",
       "      <td>1.0</td>\n",
       "    </tr>\n",
       "    <tr>\n",
       "      <th>3</th>\n",
       "      <td>Fiesta</td>\n",
       "      <td>2019</td>\n",
       "      <td>17500</td>\n",
       "      <td>Manual</td>\n",
       "      <td>10460</td>\n",
       "      <td>Petrol</td>\n",
       "      <td>145</td>\n",
       "      <td>40.3</td>\n",
       "      <td>1.5</td>\n",
       "    </tr>\n",
       "    <tr>\n",
       "      <th>4</th>\n",
       "      <td>Fiesta</td>\n",
       "      <td>2019</td>\n",
       "      <td>16500</td>\n",
       "      <td>Automatic</td>\n",
       "      <td>1482</td>\n",
       "      <td>Petrol</td>\n",
       "      <td>145</td>\n",
       "      <td>48.7</td>\n",
       "      <td>1.0</td>\n",
       "    </tr>\n",
       "  </tbody>\n",
       "</table>\n",
       "</div>"
      ],
      "text/plain": [
       "     model  year  price transmission  mileage fuelType  tax   mpg  engineSize\n",
       "0   Fiesta  2017  12000    Automatic    15944   Petrol  150  57.7         1.0\n",
       "1    Focus  2018  14000       Manual     9083   Petrol  150  57.7         1.0\n",
       "2    Focus  2017  13000       Manual    12456   Petrol  150  57.7         1.0\n",
       "3   Fiesta  2019  17500       Manual    10460   Petrol  145  40.3         1.5\n",
       "4   Fiesta  2019  16500    Automatic     1482   Petrol  145  48.7         1.0"
      ]
     },
     "execution_count": 2,
     "metadata": {},
     "output_type": "execute_result"
    }
   ],
   "source": [
    "ford = pd.read_csv('ford.csv')\n",
    "ford.head()"
   ]
  },
  {
   "cell_type": "code",
   "execution_count": 3,
   "id": "397c11e9",
   "metadata": {},
   "outputs": [
    {
     "name": "stdout",
     "output_type": "stream",
     "text": [
      "<class 'pandas.core.frame.DataFrame'>\n",
      "RangeIndex: 17966 entries, 0 to 17965\n",
      "Data columns (total 9 columns):\n",
      " #   Column        Non-Null Count  Dtype  \n",
      "---  ------        --------------  -----  \n",
      " 0   model         17966 non-null  object \n",
      " 1   year          17966 non-null  int64  \n",
      " 2   price         17966 non-null  int64  \n",
      " 3   transmission  17966 non-null  object \n",
      " 4   mileage       17966 non-null  int64  \n",
      " 5   fuelType      17966 non-null  object \n",
      " 6   tax           17966 non-null  int64  \n",
      " 7   mpg           17966 non-null  float64\n",
      " 8   engineSize    17966 non-null  float64\n",
      "dtypes: float64(2), int64(4), object(3)\n",
      "memory usage: 1.2+ MB\n"
     ]
    }
   ],
   "source": [
    "ford.info()"
   ]
  },
  {
   "cell_type": "code",
   "execution_count": 4,
   "id": "a1c456a7",
   "metadata": {},
   "outputs": [
    {
     "data": {
      "text/plain": [
       "model           0\n",
       "year            0\n",
       "price           0\n",
       "transmission    0\n",
       "mileage         0\n",
       "fuelType        0\n",
       "tax             0\n",
       "mpg             0\n",
       "engineSize      0\n",
       "dtype: int64"
      ]
     },
     "execution_count": 4,
     "metadata": {},
     "output_type": "execute_result"
    }
   ],
   "source": [
    "ford.isnull().sum()"
   ]
  },
  {
   "cell_type": "markdown",
   "id": "04d4bf67",
   "metadata": {},
   "source": [
    "Looking at the value count of car Models in the dataset, the models that appear the most in our dataset are the Ford Firsta, Focus, Kuga, Ecosport and C-Max. There are also a few models that only appear once or twice."
   ]
  },
  {
   "cell_type": "code",
   "execution_count": 5,
   "id": "06e20eb6",
   "metadata": {},
   "outputs": [
    {
     "data": {
      "text/plain": [
       " Fiesta                   6557\n",
       " Focus                    4588\n",
       " Kuga                     2225\n",
       " EcoSport                 1143\n",
       " C-MAX                     543\n",
       " Ka+                       531\n",
       " Mondeo                    526\n",
       " B-MAX                     355\n",
       " S-MAX                     296\n",
       " Grand C-MAX               247\n",
       " Galaxy                    228\n",
       " Edge                      208\n",
       " KA                        199\n",
       " Puma                       80\n",
       " Tourneo Custom             69\n",
       " Grand Tourneo Connect      59\n",
       " Mustang                    57\n",
       " Tourneo Connect            33\n",
       " Fusion                     16\n",
       " Streetka                    2\n",
       " Ranger                      1\n",
       " Escort                      1\n",
       " Transit Tourneo             1\n",
       "Focus                        1\n",
       "Name: model, dtype: int64"
      ]
     },
     "execution_count": 5,
     "metadata": {},
     "output_type": "execute_result"
    }
   ],
   "source": [
    "ford.model.value_counts()"
   ]
  },
  {
   "cell_type": "code",
   "execution_count": 6,
   "id": "42b2f80b",
   "metadata": {},
   "outputs": [
    {
     "data": {
      "text/plain": [
       "<AxesSubplot:xlabel='model', ylabel='count'>"
      ]
     },
     "execution_count": 6,
     "metadata": {},
     "output_type": "execute_result"
    },
    {
     "data": {
      "image/png": "[encoded data removed]",
      "text/plain": [
       "<Figure size 2520x720 with 1 Axes>"
      ]
     },
     "metadata": {
      "needs_background": "light"
     },
     "output_type": "display_data"
    }
   ],
   "source": [
    "fig = plt.subplots(1,figsize=(35,10))\n",
    "sns.countplot(x=ford.model)"
   ]
  },
  {
   "cell_type": "markdown",
   "id": "54c556da",
   "metadata": {},
   "source": [
    "The value counts for car model year release that our dataset has a range of cars released from 1996-2020. Most of the cars in the dataset were released from 2015-2019. Interestingly, there's also data for a car set to release in 2060, which we are very far away from!"
   ]
  },
  {
   "cell_type": "code",
   "execution_count": 7,
   "id": "91fae646",
   "metadata": {},
   "outputs": [
    {
     "data": {
      "text/plain": [
       "<AxesSubplot:xlabel='year', ylabel='count'>"
      ]
     },
     "execution_count": 7,
     "metadata": {},
     "output_type": "execute_result"
    },
    {
     "data": {
      "image/png": "[encoded data removed]",
      "text/plain": [
       "<Figure size 1440x720 with 1 Axes>"
      ]
     },
     "metadata": {
      "needs_background": "light"
     },
     "output_type": "display_data"
    }
   ],
   "source": [
    "plt.figure(figsize=(20,10))\n",
    "sns.countplot(x=ford.year)"
   ]
  },
  {
   "cell_type": "markdown",
   "id": "5082566a",
   "metadata": {},
   "source": [
    "Looking at the other columns such as transmission, fuel type, and engine size we can see that the data is not very balanced. An overwhelming majority of the cars in our dataset have manual transmission, use either petrol or disel fuel, and most cars have an engine size of 1. Also something to take note of is that the engine size column has some zero values. That doesn't sound right for a working car!"
   ]
  },
  {
   "cell_type": "code",
   "execution_count": 8,
   "id": "5ed70032",
   "metadata": {},
   "outputs": [
    {
     "data": {
      "text/plain": [
       "<AxesSubplot:xlabel='transmission', ylabel='count'>"
      ]
     },
     "execution_count": 8,
     "metadata": {},
     "output_type": "execute_result"
    },
    {
     "data": {
      "image/png": "[encoded data removed]",
      "text/plain": [
       "<Figure size 432x288 with 1 Axes>"
      ]
     },
     "metadata": {
      "needs_background": "light"
     },
     "output_type": "display_data"
    }
   ],
   "source": [
    "sns.countplot(x=ford.transmission)"
   ]
  },
  {
   "cell_type": "code",
   "execution_count": 9,
   "id": "d6ed8a94",
   "metadata": {},
   "outputs": [
    {
     "data": {
      "text/plain": [
       "<AxesSubplot:xlabel='fuelType', ylabel='count'>"
      ]
     },
     "execution_count": 9,
     "metadata": {},
     "output_type": "execute_result"
    },
    {
     "data": {
      "image/png": "[encoded data removed]",
      "text/plain": [
       "<Figure size 432x288 with 1 Axes>"
      ]
     },
     "metadata": {
      "needs_background": "light"
     },
     "output_type": "display_data"
    }
   ],
   "source": [
    "sns.countplot(x=ford.fuelType)"
   ]
  },
  {
   "cell_type": "code",
   "execution_count": 10,
   "id": "b8bcc3e2",
   "metadata": {},
   "outputs": [
    {
     "data": {
      "text/plain": [
       "<AxesSubplot:xlabel='engineSize', ylabel='count'>"
      ]
     },
     "execution_count": 10,
     "metadata": {},
     "output_type": "execute_result"
    },
    {
     "data": {
      "image/png": "[encoded data removed]",
      "text/plain": [
       "<Figure size 432x288 with 1 Axes>"
      ]
     },
     "metadata": {
      "needs_background": "light"
     },
     "output_type": "display_data"
    }
   ],
   "source": [
    "sns.countplot(x=ford.engineSize)"
   ]
  },
  {
   "cell_type": "markdown",
   "id": "4bce5b60",
   "metadata": {},
   "source": [
    "<h1>DataFrame Formatting<h1>"
   ]
  },
  {
   "cell_type": "markdown",
   "id": "fda98a88",
   "metadata": {},
   "source": [
    "Before beginning to analyze my data, there a few changes to the DataFrame I want to make. These changes include removing information that wouldn't be relevant to answering my question and getting rid of outliers in the data that doesn't make sense to include. My first change was to remove the row of data containing the car coming out in 2060 as it is irrelevant in comparison to the rest of the data and is only speculative as it is in the future."
   ]
  },
  {
   "cell_type": "code",
   "execution_count": 11,
   "id": "1492295e",
   "metadata": {},
   "outputs": [
    {
     "data": {
      "text/html": [
       "<div>\n",
       "<style scoped>\n",
       "    .dataframe tbody tr th:only-of-type {\n",
       "        vertical-align: middle;\n",
       "    }\n",
       "\n",
       "    .dataframe tbody tr th {\n",
       "        vertical-align: top;\n",
       "    }\n",
       "\n",
       "    .dataframe thead th {\n",
       "        text-align: right;\n",
       "    }\n",
       "</style>\n",
       "<table border=\"1\" class=\"dataframe\">\n",
       "  <thead>\n",
       "    <tr style=\"text-align: right;\">\n",
       "      <th></th>\n",
       "      <th>model</th>\n",
       "      <th>year</th>\n",
       "      <th>price</th>\n",
       "      <th>transmission</th>\n",
       "      <th>mileage</th>\n",
       "      <th>fuelType</th>\n",
       "      <th>tax</th>\n",
       "      <th>mpg</th>\n",
       "      <th>engineSize</th>\n",
       "    </tr>\n",
       "  </thead>\n",
       "  <tbody>\n",
       "    <tr>\n",
       "      <th>17726</th>\n",
       "      <td>Fiesta</td>\n",
       "      <td>2060</td>\n",
       "      <td>6495</td>\n",
       "      <td>Automatic</td>\n",
       "      <td>54807</td>\n",
       "      <td>Petrol</td>\n",
       "      <td>205</td>\n",
       "      <td>42.8</td>\n",
       "      <td>1.4</td>\n",
       "    </tr>\n",
       "  </tbody>\n",
       "</table>\n",
       "</div>"
      ],
      "text/plain": [
       "         model  year  price transmission  mileage fuelType  tax   mpg  \\\n",
       "17726   Fiesta  2060   6495    Automatic    54807   Petrol  205  42.8   \n",
       "\n",
       "       engineSize  \n",
       "17726         1.4  "
      ]
     },
     "execution_count": 11,
     "metadata": {},
     "output_type": "execute_result"
    }
   ],
   "source": [
    "ford.loc[ford.year==2060]"
   ]
  },
  {
   "cell_type": "code",
   "execution_count": 12,
   "id": "081613b6",
   "metadata": {},
   "outputs": [
    {
     "data": {
      "text/plain": [
       "2020"
      ]
     },
     "execution_count": 12,
     "metadata": {},
     "output_type": "execute_result"
    }
   ],
   "source": [
    "ford = ford.drop(17726)\n",
    "ford.year.max()"
   ]
  },
  {
   "cell_type": "markdown",
   "id": "f31ea16b",
   "metadata": {},
   "source": [
    "I also decided to remove all the values where engine size was equal to zero. I did this as all cars require engines to function and having engine sizes at zero could hurt future predictions. This brings our total number of rows to 17,914."
   ]
  },
  {
   "cell_type": "code",
   "execution_count": 13,
   "id": "e5d103eb",
   "metadata": {},
   "outputs": [
    {
     "data": {
      "text/html": [
       "<div>\n",
       "<style scoped>\n",
       "    .dataframe tbody tr th:only-of-type {\n",
       "        vertical-align: middle;\n",
       "    }\n",
       "\n",
       "    .dataframe tbody tr th {\n",
       "        vertical-align: top;\n",
       "    }\n",
       "\n",
       "    .dataframe thead th {\n",
       "        text-align: right;\n",
       "    }\n",
       "</style>\n",
       "<table border=\"1\" class=\"dataframe\">\n",
       "  <thead>\n",
       "    <tr style=\"text-align: right;\">\n",
       "      <th></th>\n",
       "      <th>model</th>\n",
       "      <th>year</th>\n",
       "      <th>price</th>\n",
       "      <th>transmission</th>\n",
       "      <th>mileage</th>\n",
       "      <th>fuelType</th>\n",
       "      <th>tax</th>\n",
       "      <th>mpg</th>\n",
       "      <th>engineSize</th>\n",
       "    </tr>\n",
       "  </thead>\n",
       "  <tbody>\n",
       "    <tr>\n",
       "      <th>13862</th>\n",
       "      <td>Kuga</td>\n",
       "      <td>2019</td>\n",
       "      <td>18990</td>\n",
       "      <td>Manual</td>\n",
       "      <td>8389</td>\n",
       "      <td>Petrol</td>\n",
       "      <td>150</td>\n",
       "      <td>35.3</td>\n",
       "      <td>0.0</td>\n",
       "    </tr>\n",
       "    <tr>\n",
       "      <th>14064</th>\n",
       "      <td>Focus</td>\n",
       "      <td>2016</td>\n",
       "      <td>15500</td>\n",
       "      <td>Manual</td>\n",
       "      <td>28344</td>\n",
       "      <td>Diesel</td>\n",
       "      <td>20</td>\n",
       "      <td>67.3</td>\n",
       "      <td>0.0</td>\n",
       "    </tr>\n",
       "    <tr>\n",
       "      <th>14082</th>\n",
       "      <td>Focus</td>\n",
       "      <td>2015</td>\n",
       "      <td>14300</td>\n",
       "      <td>Manual</td>\n",
       "      <td>40457</td>\n",
       "      <td>Diesel</td>\n",
       "      <td>20</td>\n",
       "      <td>67.3</td>\n",
       "      <td>0.0</td>\n",
       "    </tr>\n",
       "    <tr>\n",
       "      <th>15343</th>\n",
       "      <td>KA</td>\n",
       "      <td>2018</td>\n",
       "      <td>10000</td>\n",
       "      <td>Manual</td>\n",
       "      <td>10051</td>\n",
       "      <td>Petrol</td>\n",
       "      <td>150</td>\n",
       "      <td>43.5</td>\n",
       "      <td>0.0</td>\n",
       "    </tr>\n",
       "    <tr>\n",
       "      <th>15500</th>\n",
       "      <td>EcoSport</td>\n",
       "      <td>2015</td>\n",
       "      <td>8500</td>\n",
       "      <td>Manual</td>\n",
       "      <td>33403</td>\n",
       "      <td>Diesel</td>\n",
       "      <td>30</td>\n",
       "      <td>61.4</td>\n",
       "      <td>0.0</td>\n",
       "    </tr>\n",
       "    <tr>\n",
       "      <th>15775</th>\n",
       "      <td>Focus</td>\n",
       "      <td>2017</td>\n",
       "      <td>13000</td>\n",
       "      <td>Manual</td>\n",
       "      <td>24484</td>\n",
       "      <td>Diesel</td>\n",
       "      <td>145</td>\n",
       "      <td>70.6</td>\n",
       "      <td>0.0</td>\n",
       "    </tr>\n",
       "    <tr>\n",
       "      <th>16312</th>\n",
       "      <td>Focus</td>\n",
       "      <td>2015</td>\n",
       "      <td>9170</td>\n",
       "      <td>Manual</td>\n",
       "      <td>28000</td>\n",
       "      <td>Petrol</td>\n",
       "      <td>20</td>\n",
       "      <td>61.4</td>\n",
       "      <td>0.0</td>\n",
       "    </tr>\n",
       "    <tr>\n",
       "      <th>16313</th>\n",
       "      <td>Focus</td>\n",
       "      <td>2019</td>\n",
       "      <td>18699</td>\n",
       "      <td>Manual</td>\n",
       "      <td>10000</td>\n",
       "      <td>Petrol</td>\n",
       "      <td>145</td>\n",
       "      <td>46.3</td>\n",
       "      <td>0.0</td>\n",
       "    </tr>\n",
       "    <tr>\n",
       "      <th>16321</th>\n",
       "      <td>Fiesta</td>\n",
       "      <td>2017</td>\n",
       "      <td>9899</td>\n",
       "      <td>Manual</td>\n",
       "      <td>10000</td>\n",
       "      <td>Petrol</td>\n",
       "      <td>0</td>\n",
       "      <td>65.7</td>\n",
       "      <td>0.0</td>\n",
       "    </tr>\n",
       "    <tr>\n",
       "      <th>16322</th>\n",
       "      <td>Ka+</td>\n",
       "      <td>2018</td>\n",
       "      <td>9999</td>\n",
       "      <td>Manual</td>\n",
       "      <td>15000</td>\n",
       "      <td>Petrol</td>\n",
       "      <td>145</td>\n",
       "      <td>43.5</td>\n",
       "      <td>0.0</td>\n",
       "    </tr>\n",
       "    <tr>\n",
       "      <th>16323</th>\n",
       "      <td>EcoSport</td>\n",
       "      <td>2018</td>\n",
       "      <td>12973</td>\n",
       "      <td>Manual</td>\n",
       "      <td>23000</td>\n",
       "      <td>Petrol</td>\n",
       "      <td>145</td>\n",
       "      <td>54.3</td>\n",
       "      <td>0.0</td>\n",
       "    </tr>\n",
       "    <tr>\n",
       "      <th>16324</th>\n",
       "      <td>EcoSport</td>\n",
       "      <td>2019</td>\n",
       "      <td>15904</td>\n",
       "      <td>Manual</td>\n",
       "      <td>5000</td>\n",
       "      <td>Petrol</td>\n",
       "      <td>145</td>\n",
       "      <td>52.3</td>\n",
       "      <td>0.0</td>\n",
       "    </tr>\n",
       "    <tr>\n",
       "      <th>16325</th>\n",
       "      <td>Fiesta</td>\n",
       "      <td>2017</td>\n",
       "      <td>9204</td>\n",
       "      <td>Manual</td>\n",
       "      <td>28000</td>\n",
       "      <td>Petrol</td>\n",
       "      <td>145</td>\n",
       "      <td>65.7</td>\n",
       "      <td>0.0</td>\n",
       "    </tr>\n",
       "    <tr>\n",
       "      <th>16326</th>\n",
       "      <td>Ka+</td>\n",
       "      <td>2020</td>\n",
       "      <td>11999</td>\n",
       "      <td>Manual</td>\n",
       "      <td>2000</td>\n",
       "      <td>Petrol</td>\n",
       "      <td>145</td>\n",
       "      <td>43.5</td>\n",
       "      <td>0.0</td>\n",
       "    </tr>\n",
       "    <tr>\n",
       "      <th>16327</th>\n",
       "      <td>EcoSport</td>\n",
       "      <td>2018</td>\n",
       "      <td>11999</td>\n",
       "      <td>Manual</td>\n",
       "      <td>28000</td>\n",
       "      <td>Petrol</td>\n",
       "      <td>145</td>\n",
       "      <td>53.3</td>\n",
       "      <td>0.0</td>\n",
       "    </tr>\n",
       "    <tr>\n",
       "      <th>16328</th>\n",
       "      <td>Fiesta</td>\n",
       "      <td>2017</td>\n",
       "      <td>9080</td>\n",
       "      <td>Manual</td>\n",
       "      <td>20000</td>\n",
       "      <td>Petrol</td>\n",
       "      <td>0</td>\n",
       "      <td>65.7</td>\n",
       "      <td>0.0</td>\n",
       "    </tr>\n",
       "    <tr>\n",
       "      <th>16329</th>\n",
       "      <td>Fiesta</td>\n",
       "      <td>2017</td>\n",
       "      <td>9046</td>\n",
       "      <td>Manual</td>\n",
       "      <td>22000</td>\n",
       "      <td>Petrol</td>\n",
       "      <td>0</td>\n",
       "      <td>65.7</td>\n",
       "      <td>0.0</td>\n",
       "    </tr>\n",
       "    <tr>\n",
       "      <th>16330</th>\n",
       "      <td>Fiesta</td>\n",
       "      <td>2017</td>\n",
       "      <td>11783</td>\n",
       "      <td>Automatic</td>\n",
       "      <td>23000</td>\n",
       "      <td>Petrol</td>\n",
       "      <td>0</td>\n",
       "      <td>57.7</td>\n",
       "      <td>0.0</td>\n",
       "    </tr>\n",
       "    <tr>\n",
       "      <th>16331</th>\n",
       "      <td>Fiesta</td>\n",
       "      <td>2017</td>\n",
       "      <td>9275</td>\n",
       "      <td>Automatic</td>\n",
       "      <td>34000</td>\n",
       "      <td>Petrol</td>\n",
       "      <td>0</td>\n",
       "      <td>57.7</td>\n",
       "      <td>0.0</td>\n",
       "    </tr>\n",
       "    <tr>\n",
       "      <th>16332</th>\n",
       "      <td>Focus</td>\n",
       "      <td>2018</td>\n",
       "      <td>18389</td>\n",
       "      <td>Manual</td>\n",
       "      <td>19000</td>\n",
       "      <td>Petrol</td>\n",
       "      <td>145</td>\n",
       "      <td>67.3</td>\n",
       "      <td>0.0</td>\n",
       "    </tr>\n",
       "    <tr>\n",
       "      <th>16333</th>\n",
       "      <td>Fiesta</td>\n",
       "      <td>2019</td>\n",
       "      <td>21999</td>\n",
       "      <td>Manual</td>\n",
       "      <td>4000</td>\n",
       "      <td>Petrol</td>\n",
       "      <td>145</td>\n",
       "      <td>40.3</td>\n",
       "      <td>0.0</td>\n",
       "    </tr>\n",
       "    <tr>\n",
       "      <th>16334</th>\n",
       "      <td>Ka+</td>\n",
       "      <td>2019</td>\n",
       "      <td>9999</td>\n",
       "      <td>Manual</td>\n",
       "      <td>5000</td>\n",
       "      <td>Petrol</td>\n",
       "      <td>145</td>\n",
       "      <td>47.9</td>\n",
       "      <td>0.0</td>\n",
       "    </tr>\n",
       "    <tr>\n",
       "      <th>16335</th>\n",
       "      <td>Ka+</td>\n",
       "      <td>2019</td>\n",
       "      <td>9999</td>\n",
       "      <td>Manual</td>\n",
       "      <td>10000</td>\n",
       "      <td>Petrol</td>\n",
       "      <td>145</td>\n",
       "      <td>47.9</td>\n",
       "      <td>0.0</td>\n",
       "    </tr>\n",
       "    <tr>\n",
       "      <th>16336</th>\n",
       "      <td>Fiesta</td>\n",
       "      <td>2018</td>\n",
       "      <td>10903</td>\n",
       "      <td>Manual</td>\n",
       "      <td>8000</td>\n",
       "      <td>Petrol</td>\n",
       "      <td>150</td>\n",
       "      <td>65.7</td>\n",
       "      <td>0.0</td>\n",
       "    </tr>\n",
       "    <tr>\n",
       "      <th>16337</th>\n",
       "      <td>Focus</td>\n",
       "      <td>2017</td>\n",
       "      <td>12975</td>\n",
       "      <td>Manual</td>\n",
       "      <td>11000</td>\n",
       "      <td>Petrol</td>\n",
       "      <td>145</td>\n",
       "      <td>51.4</td>\n",
       "      <td>0.0</td>\n",
       "    </tr>\n",
       "    <tr>\n",
       "      <th>16338</th>\n",
       "      <td>Focus</td>\n",
       "      <td>2015</td>\n",
       "      <td>9072</td>\n",
       "      <td>Manual</td>\n",
       "      <td>23000</td>\n",
       "      <td>Petrol</td>\n",
       "      <td>20</td>\n",
       "      <td>58.9</td>\n",
       "      <td>0.0</td>\n",
       "    </tr>\n",
       "    <tr>\n",
       "      <th>16339</th>\n",
       "      <td>Fiesta</td>\n",
       "      <td>2018</td>\n",
       "      <td>11325</td>\n",
       "      <td>Manual</td>\n",
       "      <td>23000</td>\n",
       "      <td>Petrol</td>\n",
       "      <td>150</td>\n",
       "      <td>65.7</td>\n",
       "      <td>0.0</td>\n",
       "    </tr>\n",
       "    <tr>\n",
       "      <th>16340</th>\n",
       "      <td>Focus</td>\n",
       "      <td>2013</td>\n",
       "      <td>8999</td>\n",
       "      <td>Manual</td>\n",
       "      <td>34000</td>\n",
       "      <td>Petrol</td>\n",
       "      <td>150</td>\n",
       "      <td>47.1</td>\n",
       "      <td>0.0</td>\n",
       "    </tr>\n",
       "    <tr>\n",
       "      <th>16357</th>\n",
       "      <td>Fiesta</td>\n",
       "      <td>2017</td>\n",
       "      <td>9999</td>\n",
       "      <td>Manual</td>\n",
       "      <td>19000</td>\n",
       "      <td>Petrol</td>\n",
       "      <td>145</td>\n",
       "      <td>85.6</td>\n",
       "      <td>0.0</td>\n",
       "    </tr>\n",
       "    <tr>\n",
       "      <th>16358</th>\n",
       "      <td>Fiesta</td>\n",
       "      <td>2018</td>\n",
       "      <td>12124</td>\n",
       "      <td>Automatic</td>\n",
       "      <td>11000</td>\n",
       "      <td>Petrol</td>\n",
       "      <td>145</td>\n",
       "      <td>54.3</td>\n",
       "      <td>0.0</td>\n",
       "    </tr>\n",
       "    <tr>\n",
       "      <th>16359</th>\n",
       "      <td>Fiesta</td>\n",
       "      <td>2018</td>\n",
       "      <td>14175</td>\n",
       "      <td>Manual</td>\n",
       "      <td>9000</td>\n",
       "      <td>Petrol</td>\n",
       "      <td>150</td>\n",
       "      <td>58.9</td>\n",
       "      <td>0.0</td>\n",
       "    </tr>\n",
       "    <tr>\n",
       "      <th>16360</th>\n",
       "      <td>Fiesta</td>\n",
       "      <td>2014</td>\n",
       "      <td>5769</td>\n",
       "      <td>Manual</td>\n",
       "      <td>73000</td>\n",
       "      <td>Petrol</td>\n",
       "      <td>0</td>\n",
       "      <td>65.7</td>\n",
       "      <td>0.0</td>\n",
       "    </tr>\n",
       "    <tr>\n",
       "      <th>16361</th>\n",
       "      <td>Fiesta</td>\n",
       "      <td>2018</td>\n",
       "      <td>12999</td>\n",
       "      <td>Manual</td>\n",
       "      <td>15000</td>\n",
       "      <td>Petrol</td>\n",
       "      <td>150</td>\n",
       "      <td>58.9</td>\n",
       "      <td>0.0</td>\n",
       "    </tr>\n",
       "    <tr>\n",
       "      <th>16362</th>\n",
       "      <td>EcoSport</td>\n",
       "      <td>2017</td>\n",
       "      <td>9951</td>\n",
       "      <td>Manual</td>\n",
       "      <td>15000</td>\n",
       "      <td>Petrol</td>\n",
       "      <td>150</td>\n",
       "      <td>52.3</td>\n",
       "      <td>0.0</td>\n",
       "    </tr>\n",
       "    <tr>\n",
       "      <th>16363</th>\n",
       "      <td>Mondeo</td>\n",
       "      <td>2013</td>\n",
       "      <td>5328</td>\n",
       "      <td>Manual</td>\n",
       "      <td>105000</td>\n",
       "      <td>Diesel</td>\n",
       "      <td>30</td>\n",
       "      <td>65.7</td>\n",
       "      <td>0.0</td>\n",
       "    </tr>\n",
       "    <tr>\n",
       "      <th>16364</th>\n",
       "      <td>Fiesta</td>\n",
       "      <td>2017</td>\n",
       "      <td>8702</td>\n",
       "      <td>Manual</td>\n",
       "      <td>15000</td>\n",
       "      <td>Petrol</td>\n",
       "      <td>150</td>\n",
       "      <td>65.7</td>\n",
       "      <td>0.0</td>\n",
       "    </tr>\n",
       "    <tr>\n",
       "      <th>16371</th>\n",
       "      <td>Puma</td>\n",
       "      <td>2019</td>\n",
       "      <td>23999</td>\n",
       "      <td>Manual</td>\n",
       "      <td>3000</td>\n",
       "      <td>Hybrid</td>\n",
       "      <td>150</td>\n",
       "      <td>50.4</td>\n",
       "      <td>0.0</td>\n",
       "    </tr>\n",
       "    <tr>\n",
       "      <th>16432</th>\n",
       "      <td>Fiesta</td>\n",
       "      <td>2017</td>\n",
       "      <td>9999</td>\n",
       "      <td>Manual</td>\n",
       "      <td>20000</td>\n",
       "      <td>Petrol</td>\n",
       "      <td>0</td>\n",
       "      <td>65.7</td>\n",
       "      <td>0.0</td>\n",
       "    </tr>\n",
       "    <tr>\n",
       "      <th>16433</th>\n",
       "      <td>Fiesta</td>\n",
       "      <td>2015</td>\n",
       "      <td>6999</td>\n",
       "      <td>Manual</td>\n",
       "      <td>44000</td>\n",
       "      <td>Petrol</td>\n",
       "      <td>125</td>\n",
       "      <td>54.3</td>\n",
       "      <td>0.0</td>\n",
       "    </tr>\n",
       "    <tr>\n",
       "      <th>16434</th>\n",
       "      <td>KA</td>\n",
       "      <td>2017</td>\n",
       "      <td>7999</td>\n",
       "      <td>Manual</td>\n",
       "      <td>18000</td>\n",
       "      <td>Petrol</td>\n",
       "      <td>145</td>\n",
       "      <td>57.7</td>\n",
       "      <td>0.0</td>\n",
       "    </tr>\n",
       "    <tr>\n",
       "      <th>16435</th>\n",
       "      <td>Focus</td>\n",
       "      <td>2019</td>\n",
       "      <td>15999</td>\n",
       "      <td>Manual</td>\n",
       "      <td>4000</td>\n",
       "      <td>Petrol</td>\n",
       "      <td>145</td>\n",
       "      <td>48.7</td>\n",
       "      <td>0.0</td>\n",
       "    </tr>\n",
       "    <tr>\n",
       "      <th>16471</th>\n",
       "      <td>EcoSport</td>\n",
       "      <td>2017</td>\n",
       "      <td>11999</td>\n",
       "      <td>Manual</td>\n",
       "      <td>24000</td>\n",
       "      <td>Petrol</td>\n",
       "      <td>145</td>\n",
       "      <td>52.3</td>\n",
       "      <td>0.0</td>\n",
       "    </tr>\n",
       "    <tr>\n",
       "      <th>16472</th>\n",
       "      <td>EcoSport</td>\n",
       "      <td>2018</td>\n",
       "      <td>16499</td>\n",
       "      <td>Automatic</td>\n",
       "      <td>8000</td>\n",
       "      <td>Petrol</td>\n",
       "      <td>145</td>\n",
       "      <td>45.6</td>\n",
       "      <td>0.0</td>\n",
       "    </tr>\n",
       "    <tr>\n",
       "      <th>16473</th>\n",
       "      <td>EcoSport</td>\n",
       "      <td>2018</td>\n",
       "      <td>12867</td>\n",
       "      <td>Manual</td>\n",
       "      <td>9000</td>\n",
       "      <td>Petrol</td>\n",
       "      <td>145</td>\n",
       "      <td>54.3</td>\n",
       "      <td>0.0</td>\n",
       "    </tr>\n",
       "    <tr>\n",
       "      <th>16474</th>\n",
       "      <td>Fiesta</td>\n",
       "      <td>2018</td>\n",
       "      <td>11463</td>\n",
       "      <td>Manual</td>\n",
       "      <td>18000</td>\n",
       "      <td>Petrol</td>\n",
       "      <td>145</td>\n",
       "      <td>65.7</td>\n",
       "      <td>0.0</td>\n",
       "    </tr>\n",
       "    <tr>\n",
       "      <th>16475</th>\n",
       "      <td>Fiesta</td>\n",
       "      <td>2017</td>\n",
       "      <td>11289</td>\n",
       "      <td>Manual</td>\n",
       "      <td>9000</td>\n",
       "      <td>Petrol</td>\n",
       "      <td>20</td>\n",
       "      <td>62.8</td>\n",
       "      <td>0.0</td>\n",
       "    </tr>\n",
       "    <tr>\n",
       "      <th>16476</th>\n",
       "      <td>KA</td>\n",
       "      <td>2018</td>\n",
       "      <td>9899</td>\n",
       "      <td>Manual</td>\n",
       "      <td>6000</td>\n",
       "      <td>Petrol</td>\n",
       "      <td>145</td>\n",
       "      <td>43.5</td>\n",
       "      <td>0.0</td>\n",
       "    </tr>\n",
       "    <tr>\n",
       "      <th>16477</th>\n",
       "      <td>KA</td>\n",
       "      <td>2018</td>\n",
       "      <td>8135</td>\n",
       "      <td>Manual</td>\n",
       "      <td>6000</td>\n",
       "      <td>Petrol</td>\n",
       "      <td>145</td>\n",
       "      <td>57.7</td>\n",
       "      <td>0.0</td>\n",
       "    </tr>\n",
       "    <tr>\n",
       "      <th>16478</th>\n",
       "      <td>KA</td>\n",
       "      <td>2019</td>\n",
       "      <td>9999</td>\n",
       "      <td>Manual</td>\n",
       "      <td>10000</td>\n",
       "      <td>Petrol</td>\n",
       "      <td>145</td>\n",
       "      <td>47.9</td>\n",
       "      <td>0.0</td>\n",
       "    </tr>\n",
       "    <tr>\n",
       "      <th>16479</th>\n",
       "      <td>KA</td>\n",
       "      <td>2018</td>\n",
       "      <td>8444</td>\n",
       "      <td>Manual</td>\n",
       "      <td>17000</td>\n",
       "      <td>Petrol</td>\n",
       "      <td>145</td>\n",
       "      <td>57.7</td>\n",
       "      <td>0.0</td>\n",
       "    </tr>\n",
       "    <tr>\n",
       "      <th>16480</th>\n",
       "      <td>Focus</td>\n",
       "      <td>2018</td>\n",
       "      <td>12999</td>\n",
       "      <td>Manual</td>\n",
       "      <td>11000</td>\n",
       "      <td>Petrol</td>\n",
       "      <td>145</td>\n",
       "      <td>60.1</td>\n",
       "      <td>0.0</td>\n",
       "    </tr>\n",
       "  </tbody>\n",
       "</table>\n",
       "</div>"
      ],
      "text/plain": [
       "           model  year  price transmission  mileage fuelType  tax   mpg  \\\n",
       "13862       Kuga  2019  18990       Manual     8389   Petrol  150  35.3   \n",
       "14064      Focus  2016  15500       Manual    28344   Diesel   20  67.3   \n",
       "14082      Focus  2015  14300       Manual    40457   Diesel   20  67.3   \n",
       "15343         KA  2018  10000       Manual    10051   Petrol  150  43.5   \n",
       "15500   EcoSport  2015   8500       Manual    33403   Diesel   30  61.4   \n",
       "15775      Focus  2017  13000       Manual    24484   Diesel  145  70.6   \n",
       "16312      Focus  2015   9170       Manual    28000   Petrol   20  61.4   \n",
       "16313      Focus  2019  18699       Manual    10000   Petrol  145  46.3   \n",
       "16321     Fiesta  2017   9899       Manual    10000   Petrol    0  65.7   \n",
       "16322        Ka+  2018   9999       Manual    15000   Petrol  145  43.5   \n",
       "16323   EcoSport  2018  12973       Manual    23000   Petrol  145  54.3   \n",
       "16324   EcoSport  2019  15904       Manual     5000   Petrol  145  52.3   \n",
       "16325     Fiesta  2017   9204       Manual    28000   Petrol  145  65.7   \n",
       "16326        Ka+  2020  11999       Manual     2000   Petrol  145  43.5   \n",
       "16327   EcoSport  2018  11999       Manual    28000   Petrol  145  53.3   \n",
       "16328     Fiesta  2017   9080       Manual    20000   Petrol    0  65.7   \n",
       "16329     Fiesta  2017   9046       Manual    22000   Petrol    0  65.7   \n",
       "16330     Fiesta  2017  11783    Automatic    23000   Petrol    0  57.7   \n",
       "16331     Fiesta  2017   9275    Automatic    34000   Petrol    0  57.7   \n",
       "16332      Focus  2018  18389       Manual    19000   Petrol  145  67.3   \n",
       "16333     Fiesta  2019  21999       Manual     4000   Petrol  145  40.3   \n",
       "16334        Ka+  2019   9999       Manual     5000   Petrol  145  47.9   \n",
       "16335        Ka+  2019   9999       Manual    10000   Petrol  145  47.9   \n",
       "16336     Fiesta  2018  10903       Manual     8000   Petrol  150  65.7   \n",
       "16337      Focus  2017  12975       Manual    11000   Petrol  145  51.4   \n",
       "16338      Focus  2015   9072       Manual    23000   Petrol   20  58.9   \n",
       "16339     Fiesta  2018  11325       Manual    23000   Petrol  150  65.7   \n",
       "16340      Focus  2013   8999       Manual    34000   Petrol  150  47.1   \n",
       "16357     Fiesta  2017   9999       Manual    19000   Petrol  145  85.6   \n",
       "16358     Fiesta  2018  12124    Automatic    11000   Petrol  145  54.3   \n",
       "16359     Fiesta  2018  14175       Manual     9000   Petrol  150  58.9   \n",
       "16360     Fiesta  2014   5769       Manual    73000   Petrol    0  65.7   \n",
       "16361     Fiesta  2018  12999       Manual    15000   Petrol  150  58.9   \n",
       "16362   EcoSport  2017   9951       Manual    15000   Petrol  150  52.3   \n",
       "16363     Mondeo  2013   5328       Manual   105000   Diesel   30  65.7   \n",
       "16364     Fiesta  2017   8702       Manual    15000   Petrol  150  65.7   \n",
       "16371       Puma  2019  23999       Manual     3000   Hybrid  150  50.4   \n",
       "16432     Fiesta  2017   9999       Manual    20000   Petrol    0  65.7   \n",
       "16433     Fiesta  2015   6999       Manual    44000   Petrol  125  54.3   \n",
       "16434         KA  2017   7999       Manual    18000   Petrol  145  57.7   \n",
       "16435      Focus  2019  15999       Manual     4000   Petrol  145  48.7   \n",
       "16471   EcoSport  2017  11999       Manual    24000   Petrol  145  52.3   \n",
       "16472   EcoSport  2018  16499    Automatic     8000   Petrol  145  45.6   \n",
       "16473   EcoSport  2018  12867       Manual     9000   Petrol  145  54.3   \n",
       "16474     Fiesta  2018  11463       Manual    18000   Petrol  145  65.7   \n",
       "16475     Fiesta  2017  11289       Manual     9000   Petrol   20  62.8   \n",
       "16476         KA  2018   9899       Manual     6000   Petrol  145  43.5   \n",
       "16477         KA  2018   8135       Manual     6000   Petrol  145  57.7   \n",
       "16478         KA  2019   9999       Manual    10000   Petrol  145  47.9   \n",
       "16479         KA  2018   8444       Manual    17000   Petrol  145  57.7   \n",
       "16480      Focus  2018  12999       Manual    11000   Petrol  145  60.1   \n",
       "\n",
       "       engineSize  \n",
       "13862         0.0  \n",
       "14064         0.0  \n",
       "14082         0.0  \n",
       "15343         0.0  \n",
       "15500         0.0  \n",
       "15775         0.0  \n",
       "16312         0.0  \n",
       "16313         0.0  \n",
       "16321         0.0  \n",
       "16322         0.0  \n",
       "16323         0.0  \n",
       "16324         0.0  \n",
       "16325         0.0  \n",
       "16326         0.0  \n",
       "16327         0.0  \n",
       "16328         0.0  \n",
       "16329         0.0  \n",
       "16330         0.0  \n",
       "16331         0.0  \n",
       "16332         0.0  \n",
       "16333         0.0  \n",
       "16334         0.0  \n",
       "16335         0.0  \n",
       "16336         0.0  \n",
       "16337         0.0  \n",
       "16338         0.0  \n",
       "16339         0.0  \n",
       "16340         0.0  \n",
       "16357         0.0  \n",
       "16358         0.0  \n",
       "16359         0.0  \n",
       "16360         0.0  \n",
       "16361         0.0  \n",
       "16362         0.0  \n",
       "16363         0.0  \n",
       "16364         0.0  \n",
       "16371         0.0  \n",
       "16432         0.0  \n",
       "16433         0.0  \n",
       "16434         0.0  \n",
       "16435         0.0  \n",
       "16471         0.0  \n",
       "16472         0.0  \n",
       "16473         0.0  \n",
       "16474         0.0  \n",
       "16475         0.0  \n",
       "16476         0.0  \n",
       "16477         0.0  \n",
       "16478         0.0  \n",
       "16479         0.0  \n",
       "16480         0.0  "
      ]
     },
     "execution_count": 13,
     "metadata": {},
     "output_type": "execute_result"
    }
   ],
   "source": [
    "ford.loc[ford.engineSize < 1.0]"
   ]
  },
  {
   "cell_type": "code",
   "execution_count": 14,
   "id": "70a084b9",
   "metadata": {},
   "outputs": [
    {
     "data": {
      "text/plain": [
       "1.0"
      ]
     },
     "execution_count": 14,
     "metadata": {},
     "output_type": "execute_result"
    }
   ],
   "source": [
    "ford = ford[ford.engineSize != 0.0]\n",
    "ford.engineSize.min()"
   ]
  },
  {
   "cell_type": "markdown",
   "id": "89b5f50c",
   "metadata": {},
   "source": [
    "<h1>Visualizing Car Price<h1>"
   ]
  },
  {
   "cell_type": "markdown",
   "id": "13c39318",
   "metadata": {},
   "source": [
    "From the dataset, there are a few questions we can attempt to answer with the information we have. The questions we'll focus on are: \n",
    "\n",
    "- What correlations can we find between car price and other columns. \n",
    "- How well can we predict the price of a car?"
   ]
  },
  {
   "cell_type": "markdown",
   "id": "4a722a89",
   "metadata": {},
   "source": [
    "<h3>Price Correlation<h3>"
   ]
  },
  {
   "cell_type": "markdown",
   "id": "2f34167a",
   "metadata": {},
   "source": [
    "Looking at the correlation between numerical columns, we see that car price has positive correlations with release year, engine size and tax, and negative correlations with mileage and miles per gallon."
   ]
  },
  {
   "cell_type": "code",
   "execution_count": 15,
   "id": "024c3e4f",
   "metadata": {},
   "outputs": [
    {
     "data": {
      "text/plain": [
       "count    17914.000000\n",
       "mean     12281.289103\n",
       "std       4743.641951\n",
       "min        495.000000\n",
       "25%       8999.000000\n",
       "50%      11291.000000\n",
       "75%      15299.000000\n",
       "max      54995.000000\n",
       "Name: price, dtype: float64"
      ]
     },
     "execution_count": 15,
     "metadata": {},
     "output_type": "execute_result"
    }
   ],
   "source": [
    "ford.price.describe()"
   ]
  },
  {
   "cell_type": "code",
   "execution_count": 30,
   "id": "49c98e5a",
   "metadata": {},
   "outputs": [
    {
     "data": {
      "text/plain": [
       "[Text(0.5, 1.0, 'Correlation Heatmap')]"
      ]
     },
     "execution_count": 30,
     "metadata": {},
     "output_type": "execute_result"
    },
    {
     "data": {
      "image/png": "[encoded data removed]",
      "text/plain": [
       "<Figure size 432x288 with 2 Axes>"
      ]
     },
     "metadata": {
      "needs_background": "light"
     },
     "output_type": "display_data"
    }
   ],
   "source": [
    "sns.heatmap(ford.corr(), annot=True).set(title=\"Correlation Heatmap\")"
   ]
  },
  {
   "cell_type": "markdown",
   "id": "6c85e816",
   "metadata": {},
   "source": [
    "From calculating the standard deviation and graphing the density distribution of car prices in the data we can see 50% of our car prices resides between the minimum 495 and 11,291."
   ]
  },
  {
   "cell_type": "code",
   "execution_count": 31,
   "id": "70d9d499",
   "metadata": {},
   "outputs": [
    {
     "data": {
      "text/plain": [
       "<seaborn.axisgrid.FacetGrid at 0x7fc8865f9f10>"
      ]
     },
     "execution_count": 31,
     "metadata": {},
     "output_type": "execute_result"
    },
    {
     "data": {
      "image/png": "[encoded data removed]",
      "text/plain": [
       "<Figure size 360x360 with 1 Axes>"
      ]
     },
     "metadata": {
      "needs_background": "light"
     },
     "output_type": "display_data"
    },
    {
     "data": {
      "image/png": "[encoded data removed]",
      "text/plain": [
       "<Figure size 360x360 with 1 Axes>"
      ]
     },
     "metadata": {
      "needs_background": "light"
     },
     "output_type": "display_data"
    }
   ],
   "source": [
    "sns.displot(x=ford.price).set(title=\"Car Price Distribution\")\n",
    "sns.displot(x=ford.price, kind=\"kde\").set(title=\"Car Price Density\")"
   ]
  },
  {
   "cell_type": "markdown",
   "id": "ce10356a",
   "metadata": {},
   "source": [
    "Below we have scatterplots comparing price to car release year, miles per gallon, mileage, and engine size. Unsurprisingly, cars have gotten more expensive as time has went on. We can also note from comparing car price and engine size that cars with an engine size of 5 have a higher starting price than other cars. From comparing car price and mileage, the more mileage a car has, the less expensive it is."
   ]
  },
  {
   "cell_type": "code",
   "execution_count": 32,
   "id": "0527198e",
   "metadata": {},
   "outputs": [
    {
     "data": {
      "text/plain": [
       "[Text(0.5, 1.0, 'Car Price vs Car Release Year')]"
      ]
     },
     "execution_count": 32,
     "metadata": {},
     "output_type": "execute_result"
    },
    {
     "data": {
      "image/png": "[encoded data removed]",
      "text/plain": [
       "<Figure size 432x288 with 1 Axes>"
      ]
     },
     "metadata": {
      "needs_background": "light"
     },
     "output_type": "display_data"
    }
   ],
   "source": [
    "sns.scatterplot(x=ford.year, y=ford.price).set(title=\"Car Price vs Car Release Year\")"
   ]
  },
  {
   "cell_type": "code",
   "execution_count": 33,
   "id": "acd2524d",
   "metadata": {},
   "outputs": [
    {
     "data": {
      "text/plain": [
       "[Text(0.5, 1.0, 'Car Price vs Miles Per Gallon')]"
      ]
     },
     "execution_count": 33,
     "metadata": {},
     "output_type": "execute_result"
    },
    {
     "data": {
      "image/png": "[encoded data removed]",
      "text/plain": [
       "<Figure size 432x288 with 1 Axes>"
      ]
     },
     "metadata": {
      "needs_background": "light"
     },
     "output_type": "display_data"
    }
   ],
   "source": [
    "sns.scatterplot(x=ford.mpg, y=ford.price).set(title=\"Car Price vs Miles Per Gallon\")"
   ]
  },
  {
   "cell_type": "code",
   "execution_count": 34,
   "id": "88e2d377",
   "metadata": {},
   "outputs": [
    {
     "data": {
      "text/plain": [
       "[Text(0.5, 1.0, 'Car Price vs Mileage')]"
      ]
     },
     "execution_count": 34,
     "metadata": {},
     "output_type": "execute_result"
    },
    {
     "data": {
      "image/png": "[encoded data removed]",
      "text/plain": [
       "<Figure size 432x288 with 1 Axes>"
      ]
     },
     "metadata": {
      "needs_background": "light"
     },
     "output_type": "display_data"
    }
   ],
   "source": [
    "sns.scatterplot(x=ford.mileage, y=ford.price).set(title=\"Car Price vs Mileage\")"
   ]
  },
  {
   "cell_type": "code",
   "execution_count": 35,
   "id": "e2dc6c78",
   "metadata": {},
   "outputs": [
    {
     "data": {
      "text/plain": [
       "[Text(0.5, 1.0, 'Car Price vs Engine Size')]"
      ]
     },
     "execution_count": 35,
     "metadata": {},
     "output_type": "execute_result"
    },
    {
     "data": {
      "image/png": "[encoded data removed]",
      "text/plain": [
       "<Figure size 432x288 with 1 Axes>"
      ]
     },
     "metadata": {
      "needs_background": "light"
     },
     "output_type": "display_data"
    }
   ],
   "source": [
    "sns.scatterplot(x=ford.engineSize, y=ford.price).set(title=\"Car Price vs Engine Size\")"
   ]
  },
  {
   "cell_type": "markdown",
   "id": "7159e296",
   "metadata": {},
   "source": [
    "From the boxplot of Ford Car Models against price, we can see that the most expensive model is terms of range is the Ford Mustang. We can also see that some models have a few outliers in terms of price than the majority of other cars of the same model. "
   ]
  },
  {
   "cell_type": "code",
   "execution_count": 36,
   "id": "135ca8c4",
   "metadata": {},
   "outputs": [
    {
     "data": {
      "text/plain": [
       "[Text(0.5, 1.0, 'Car Price vs Car Model')]"
      ]
     },
     "execution_count": 36,
     "metadata": {},
     "output_type": "execute_result"
    },
    {
     "data": {
      "image/png": "[encoded data removed]",
      "text/plain": [
       "<Figure size 2160x720 with 1 Axes>"
      ]
     },
     "metadata": {
      "needs_background": "light"
     },
     "output_type": "display_data"
    }
   ],
   "source": [
    "plt.subplots(1,figsize=(30,10))\n",
    "plt.title=\"Car Model Prices\"\n",
    "sns.boxplot(x=ford.model,y=ford.price).set(title=\"Car Price vs Car Model\")"
   ]
  },
  {
   "cell_type": "markdown",
   "id": "c740c674",
   "metadata": {},
   "source": [
    "<h3>Predicting Car Price<h3>"
   ]
  },
  {
   "cell_type": "markdown",
   "id": "5ba6ab87",
   "metadata": {},
   "source": [
    "To predict car price, there are still some changes we need to make to our dataset to help our model make more accurate predictions. Specifically, we will use sklearn's LabelEncoder encoding on our object columns: Transmission, Fuel type, and Model to make them numerical labels and create a new DataFrame joining the data and dropping the old columns."
   ]
  },
  {
   "cell_type": "code",
   "execution_count": 23,
   "id": "01a55546",
   "metadata": {},
   "outputs": [],
   "source": [
    "inputs = ford.drop('price',axis='columns')\n",
    "target = ford.price"
   ]
  },
  {
   "cell_type": "code",
   "execution_count": 24,
   "id": "00522beb",
   "metadata": {},
   "outputs": [],
   "source": [
    "df1 = LabelEncoder()\n",
    "df2 = LabelEncoder()\n",
    "df3 = LabelEncoder()"
   ]
  },
  {
   "cell_type": "code",
   "execution_count": 25,
   "id": "e70ec3f4",
   "metadata": {},
   "outputs": [
    {
     "data": {
      "text/html": [
       "<div>\n",
       "<style scoped>\n",
       "    .dataframe tbody tr th:only-of-type {\n",
       "        vertical-align: middle;\n",
       "    }\n",
       "\n",
       "    .dataframe tbody tr th {\n",
       "        vertical-align: top;\n",
       "    }\n",
       "\n",
       "    .dataframe thead th {\n",
       "        text-align: right;\n",
       "    }\n",
       "</style>\n",
       "<table border=\"1\" class=\"dataframe\">\n",
       "  <thead>\n",
       "    <tr style=\"text-align: right;\">\n",
       "      <th></th>\n",
       "      <th>model</th>\n",
       "      <th>year</th>\n",
       "      <th>transmission</th>\n",
       "      <th>mileage</th>\n",
       "      <th>fuelType</th>\n",
       "      <th>tax</th>\n",
       "      <th>mpg</th>\n",
       "      <th>engineSize</th>\n",
       "      <th>transmission_n</th>\n",
       "      <th>fuelType_n</th>\n",
       "      <th>model_n</th>\n",
       "    </tr>\n",
       "  </thead>\n",
       "  <tbody>\n",
       "    <tr>\n",
       "      <th>0</th>\n",
       "      <td>Fiesta</td>\n",
       "      <td>2017</td>\n",
       "      <td>Automatic</td>\n",
       "      <td>15944</td>\n",
       "      <td>Petrol</td>\n",
       "      <td>150</td>\n",
       "      <td>57.7</td>\n",
       "      <td>1.0</td>\n",
       "      <td>0</td>\n",
       "      <td>4</td>\n",
       "      <td>5</td>\n",
       "    </tr>\n",
       "    <tr>\n",
       "      <th>1</th>\n",
       "      <td>Focus</td>\n",
       "      <td>2018</td>\n",
       "      <td>Manual</td>\n",
       "      <td>9083</td>\n",
       "      <td>Petrol</td>\n",
       "      <td>150</td>\n",
       "      <td>57.7</td>\n",
       "      <td>1.0</td>\n",
       "      <td>1</td>\n",
       "      <td>4</td>\n",
       "      <td>6</td>\n",
       "    </tr>\n",
       "    <tr>\n",
       "      <th>2</th>\n",
       "      <td>Focus</td>\n",
       "      <td>2017</td>\n",
       "      <td>Manual</td>\n",
       "      <td>12456</td>\n",
       "      <td>Petrol</td>\n",
       "      <td>150</td>\n",
       "      <td>57.7</td>\n",
       "      <td>1.0</td>\n",
       "      <td>1</td>\n",
       "      <td>4</td>\n",
       "      <td>6</td>\n",
       "    </tr>\n",
       "    <tr>\n",
       "      <th>3</th>\n",
       "      <td>Fiesta</td>\n",
       "      <td>2019</td>\n",
       "      <td>Manual</td>\n",
       "      <td>10460</td>\n",
       "      <td>Petrol</td>\n",
       "      <td>145</td>\n",
       "      <td>40.3</td>\n",
       "      <td>1.5</td>\n",
       "      <td>1</td>\n",
       "      <td>4</td>\n",
       "      <td>5</td>\n",
       "    </tr>\n",
       "    <tr>\n",
       "      <th>4</th>\n",
       "      <td>Fiesta</td>\n",
       "      <td>2019</td>\n",
       "      <td>Automatic</td>\n",
       "      <td>1482</td>\n",
       "      <td>Petrol</td>\n",
       "      <td>145</td>\n",
       "      <td>48.7</td>\n",
       "      <td>1.0</td>\n",
       "      <td>0</td>\n",
       "      <td>4</td>\n",
       "      <td>5</td>\n",
       "    </tr>\n",
       "  </tbody>\n",
       "</table>\n",
       "</div>"
      ],
      "text/plain": [
       "     model  year transmission  mileage fuelType  tax   mpg  engineSize  \\\n",
       "0   Fiesta  2017    Automatic    15944   Petrol  150  57.7         1.0   \n",
       "1    Focus  2018       Manual     9083   Petrol  150  57.7         1.0   \n",
       "2    Focus  2017       Manual    12456   Petrol  150  57.7         1.0   \n",
       "3   Fiesta  2019       Manual    10460   Petrol  145  40.3         1.5   \n",
       "4   Fiesta  2019    Automatic     1482   Petrol  145  48.7         1.0   \n",
       "\n",
       "   transmission_n  fuelType_n  model_n  \n",
       "0               0           4        5  \n",
       "1               1           4        6  \n",
       "2               1           4        6  \n",
       "3               1           4        5  \n",
       "4               0           4        5  "
      ]
     },
     "execution_count": 25,
     "metadata": {},
     "output_type": "execute_result"
    }
   ],
   "source": [
    "inputs['transmission_n'] = df1.fit_transform(inputs['transmission'])\n",
    "inputs['fuelType_n'] = df2.fit_transform(inputs['fuelType'])\n",
    "inputs['model_n'] = df3.fit_transform(inputs['model'])\n",
    "inputs.head()"
   ]
  },
  {
   "cell_type": "code",
   "execution_count": 26,
   "id": "ec0cd6f7",
   "metadata": {},
   "outputs": [
    {
     "data": {
      "text/html": [
       "<div>\n",
       "<style scoped>\n",
       "    .dataframe tbody tr th:only-of-type {\n",
       "        vertical-align: middle;\n",
       "    }\n",
       "\n",
       "    .dataframe tbody tr th {\n",
       "        vertical-align: top;\n",
       "    }\n",
       "\n",
       "    .dataframe thead th {\n",
       "        text-align: right;\n",
       "    }\n",
       "</style>\n",
       "<table border=\"1\" class=\"dataframe\">\n",
       "  <thead>\n",
       "    <tr style=\"text-align: right;\">\n",
       "      <th></th>\n",
       "      <th>year</th>\n",
       "      <th>mileage</th>\n",
       "      <th>tax</th>\n",
       "      <th>mpg</th>\n",
       "      <th>engineSize</th>\n",
       "      <th>transmission_n</th>\n",
       "      <th>fuelType_n</th>\n",
       "      <th>model_n</th>\n",
       "    </tr>\n",
       "  </thead>\n",
       "  <tbody>\n",
       "    <tr>\n",
       "      <th>0</th>\n",
       "      <td>2017</td>\n",
       "      <td>15944</td>\n",
       "      <td>150</td>\n",
       "      <td>57.7</td>\n",
       "      <td>1.0</td>\n",
       "      <td>0</td>\n",
       "      <td>4</td>\n",
       "      <td>5</td>\n",
       "    </tr>\n",
       "    <tr>\n",
       "      <th>1</th>\n",
       "      <td>2018</td>\n",
       "      <td>9083</td>\n",
       "      <td>150</td>\n",
       "      <td>57.7</td>\n",
       "      <td>1.0</td>\n",
       "      <td>1</td>\n",
       "      <td>4</td>\n",
       "      <td>6</td>\n",
       "    </tr>\n",
       "    <tr>\n",
       "      <th>2</th>\n",
       "      <td>2017</td>\n",
       "      <td>12456</td>\n",
       "      <td>150</td>\n",
       "      <td>57.7</td>\n",
       "      <td>1.0</td>\n",
       "      <td>1</td>\n",
       "      <td>4</td>\n",
       "      <td>6</td>\n",
       "    </tr>\n",
       "    <tr>\n",
       "      <th>3</th>\n",
       "      <td>2019</td>\n",
       "      <td>10460</td>\n",
       "      <td>145</td>\n",
       "      <td>40.3</td>\n",
       "      <td>1.5</td>\n",
       "      <td>1</td>\n",
       "      <td>4</td>\n",
       "      <td>5</td>\n",
       "    </tr>\n",
       "    <tr>\n",
       "      <th>4</th>\n",
       "      <td>2019</td>\n",
       "      <td>1482</td>\n",
       "      <td>145</td>\n",
       "      <td>48.7</td>\n",
       "      <td>1.0</td>\n",
       "      <td>0</td>\n",
       "      <td>4</td>\n",
       "      <td>5</td>\n",
       "    </tr>\n",
       "    <tr>\n",
       "      <th>...</th>\n",
       "      <td>...</td>\n",
       "      <td>...</td>\n",
       "      <td>...</td>\n",
       "      <td>...</td>\n",
       "      <td>...</td>\n",
       "      <td>...</td>\n",
       "      <td>...</td>\n",
       "      <td>...</td>\n",
       "    </tr>\n",
       "    <tr>\n",
       "      <th>17961</th>\n",
       "      <td>2017</td>\n",
       "      <td>16700</td>\n",
       "      <td>150</td>\n",
       "      <td>47.1</td>\n",
       "      <td>1.4</td>\n",
       "      <td>1</td>\n",
       "      <td>4</td>\n",
       "      <td>0</td>\n",
       "    </tr>\n",
       "    <tr>\n",
       "      <th>17962</th>\n",
       "      <td>2014</td>\n",
       "      <td>40700</td>\n",
       "      <td>30</td>\n",
       "      <td>57.7</td>\n",
       "      <td>1.0</td>\n",
       "      <td>1</td>\n",
       "      <td>4</td>\n",
       "      <td>0</td>\n",
       "    </tr>\n",
       "    <tr>\n",
       "      <th>17963</th>\n",
       "      <td>2015</td>\n",
       "      <td>7010</td>\n",
       "      <td>20</td>\n",
       "      <td>67.3</td>\n",
       "      <td>1.6</td>\n",
       "      <td>1</td>\n",
       "      <td>0</td>\n",
       "      <td>6</td>\n",
       "    </tr>\n",
       "    <tr>\n",
       "      <th>17964</th>\n",
       "      <td>2018</td>\n",
       "      <td>5007</td>\n",
       "      <td>145</td>\n",
       "      <td>57.7</td>\n",
       "      <td>1.2</td>\n",
       "      <td>1</td>\n",
       "      <td>4</td>\n",
       "      <td>11</td>\n",
       "    </tr>\n",
       "    <tr>\n",
       "      <th>17965</th>\n",
       "      <td>2015</td>\n",
       "      <td>5007</td>\n",
       "      <td>22</td>\n",
       "      <td>57.7</td>\n",
       "      <td>1.0</td>\n",
       "      <td>1</td>\n",
       "      <td>4</td>\n",
       "      <td>23</td>\n",
       "    </tr>\n",
       "  </tbody>\n",
       "</table>\n",
       "<p>17914 rows × 8 columns</p>\n",
       "</div>"
      ],
      "text/plain": [
       "       year  mileage  tax   mpg  engineSize  transmission_n  fuelType_n  \\\n",
       "0      2017    15944  150  57.7         1.0               0           4   \n",
       "1      2018     9083  150  57.7         1.0               1           4   \n",
       "2      2017    12456  150  57.7         1.0               1           4   \n",
       "3      2019    10460  145  40.3         1.5               1           4   \n",
       "4      2019     1482  145  48.7         1.0               0           4   \n",
       "...     ...      ...  ...   ...         ...             ...         ...   \n",
       "17961  2017    16700  150  47.1         1.4               1           4   \n",
       "17962  2014    40700   30  57.7         1.0               1           4   \n",
       "17963  2015     7010   20  67.3         1.6               1           0   \n",
       "17964  2018     5007  145  57.7         1.2               1           4   \n",
       "17965  2015     5007   22  57.7         1.0               1           4   \n",
       "\n",
       "       model_n  \n",
       "0            5  \n",
       "1            6  \n",
       "2            6  \n",
       "3            5  \n",
       "4            5  \n",
       "...        ...  \n",
       "17961        0  \n",
       "17962        0  \n",
       "17963        6  \n",
       "17964       11  \n",
       "17965       23  \n",
       "\n",
       "[17914 rows x 8 columns]"
      ]
     },
     "execution_count": 26,
     "metadata": {},
     "output_type": "execute_result"
    }
   ],
   "source": [
    "df = inputs.drop(['model','transmission','fuelType'], axis=\"columns\")\n",
    "df"
   ]
  },
  {
   "cell_type": "markdown",
   "id": "bfee6ee5",
   "metadata": {},
   "source": [
    "<h3>Training & Testing Model<h3>"
   ]
  },
  {
   "cell_type": "markdown",
   "id": "3c845f53",
   "metadata": {},
   "source": [
    "We are now ready to build and fit a model for predicitions. My model will be using car price as its prediction label (y). I declared an 80/20 split between the testing and training data. I will be using two different machine learning algorithms, Linear Regression and Decision Tree Classifier. We can see that our model got relatively the same results from both the training and testing set, which the Decision Tree Classifier achieving 99% accuracy!"
   ]
  },
  {
   "cell_type": "code",
   "execution_count": 27,
   "id": "6d256793",
   "metadata": {},
   "outputs": [],
   "source": [
    "x = df\n",
    "y = target"
   ]
  },
  {
   "cell_type": "code",
   "execution_count": 28,
   "id": "3b338980",
   "metadata": {},
   "outputs": [],
   "source": [
    "x_train,x_test,y_train,y_test = train_test_split(x,y,test_size=0.2,random_state=42)"
   ]
  },
  {
   "cell_type": "code",
   "execution_count": 37,
   "id": "92b18892",
   "metadata": {},
   "outputs": [
    {
     "data": {
      "text/html": [
       "<div>\n",
       "<style scoped>\n",
       "    .dataframe tbody tr th:only-of-type {\n",
       "        vertical-align: middle;\n",
       "    }\n",
       "\n",
       "    .dataframe tbody tr th {\n",
       "        vertical-align: top;\n",
       "    }\n",
       "\n",
       "    .dataframe thead th {\n",
       "        text-align: right;\n",
       "    }\n",
       "</style>\n",
       "<table border=\"1\" class=\"dataframe\">\n",
       "  <thead>\n",
       "    <tr style=\"text-align: right;\">\n",
       "      <th></th>\n",
       "      <th>model</th>\n",
       "      <th>best_score</th>\n",
       "    </tr>\n",
       "  </thead>\n",
       "  <tbody>\n",
       "    <tr>\n",
       "      <th>0</th>\n",
       "      <td>LinearRegression()</td>\n",
       "      <td>0.745791</td>\n",
       "    </tr>\n",
       "    <tr>\n",
       "      <th>1</th>\n",
       "      <td>DecisionTreeClassifier()</td>\n",
       "      <td>0.991487</td>\n",
       "    </tr>\n",
       "  </tbody>\n",
       "</table>\n",
       "</div>"
      ],
      "text/plain": [
       "                      model  best_score\n",
       "0        LinearRegression()    0.745791\n",
       "1  DecisionTreeClassifier()    0.991487"
      ]
     },
     "execution_count": 37,
     "metadata": {},
     "output_type": "execute_result"
    }
   ],
   "source": [
    "def model_train(x_train,y_train):\n",
    "    all_models = [LinearRegression(), sklearn.tree.DecisionTreeClassifier()]\n",
    "    scores = []\n",
    "    for i in all_models:\n",
    "        model = i\n",
    "        model.fit(x_train,y_train)\n",
    "        y_predicted = model.predict(x_train)\n",
    "        scores.append({\n",
    "            'model': i,\n",
    "            'best_score':model.score(x_train,y_train),\n",
    "        })\n",
    "    return pd.DataFrame(scores,columns=['model','best_score'])\n",
    "\n",
    "model_train(x_train,y_train)"
   ]
  },
  {
   "cell_type": "code",
   "execution_count": 38,
   "id": "3ea0580e",
   "metadata": {},
   "outputs": [
    {
     "data": {
      "text/html": [
       "<div>\n",
       "<style scoped>\n",
       "    .dataframe tbody tr th:only-of-type {\n",
       "        vertical-align: middle;\n",
       "    }\n",
       "\n",
       "    .dataframe tbody tr th {\n",
       "        vertical-align: top;\n",
       "    }\n",
       "\n",
       "    .dataframe thead th {\n",
       "        text-align: right;\n",
       "    }\n",
       "</style>\n",
       "<table border=\"1\" class=\"dataframe\">\n",
       "  <thead>\n",
       "    <tr style=\"text-align: right;\">\n",
       "      <th></th>\n",
       "      <th>model</th>\n",
       "      <th>best_score</th>\n",
       "    </tr>\n",
       "  </thead>\n",
       "  <tbody>\n",
       "    <tr>\n",
       "      <th>0</th>\n",
       "      <td>LinearRegression()</td>\n",
       "      <td>0.749883</td>\n",
       "    </tr>\n",
       "    <tr>\n",
       "      <th>1</th>\n",
       "      <td>DecisionTreeClassifier()</td>\n",
       "      <td>0.996651</td>\n",
       "    </tr>\n",
       "  </tbody>\n",
       "</table>\n",
       "</div>"
      ],
      "text/plain": [
       "                      model  best_score\n",
       "0        LinearRegression()    0.749883\n",
       "1  DecisionTreeClassifier()    0.996651"
      ]
     },
     "execution_count": 38,
     "metadata": {},
     "output_type": "execute_result"
    }
   ],
   "source": [
    "def model_test(x_test,y_test):\n",
    "    all_models = [LinearRegression(), sklearn.tree.DecisionTreeClassifier()]\n",
    "    scores = []\n",
    "    for i in all_models:\n",
    "        model = i\n",
    "        model.fit(x_test,y_test)\n",
    "        y_predicted = model.predict(x_test)\n",
    "        scores.append({\n",
    "        'model': i,\n",
    "        'best_score':model.score(x_test,y_test),\n",
    "        })\n",
    "    return pd.DataFrame(scores,columns=['model','best_score'])\n",
    "\n",
    "model_train(x_test,y_test)"
   ]
  },
  {
   "cell_type": "code",
   "execution_count": 41,
   "id": "c434ce22",
   "metadata": {},
   "outputs": [
    {
     "data": {
      "text/plain": [
       "Text(0, 0.5, 'Predicted')"
      ]
     },
     "execution_count": 41,
     "metadata": {},
     "output_type": "execute_result"
    },
    {
     "data": {
      "image/png": "[encoded data removed]",
      "text/plain": [
       "<Figure size 720x576 with 1 Axes>"
      ]
     },
     "metadata": {
      "needs_background": "light"
     },
     "output_type": "display_data"
    }
   ],
   "source": [
    "model = sklearn.tree.DecisionTreeClassifier()\n",
    "model.fit(x_test,y_test)\n",
    "y_predicted = model.predict(x_test)\n",
    "\n",
    "plt.figure(figsize=(10,8))\n",
    "plt.title=(\"Accuracy\")\n",
    "sns.scatterplot(x = y_test,y = y_predicted) .set(title=\"Decision Tree Classifier Accuracy\")\n",
    "plt.xlabel('Truth', fontsize=18)                          \n",
    "plt.ylabel('Predicted', fontsize=16)   "
   ]
  },
  {
   "cell_type": "code",
   "execution_count": 40,
   "id": "b792c62d",
   "metadata": {},
   "outputs": [
    {
     "data": {
      "text/plain": [
       "Text(0, 0.5, 'Predicted')"
      ]
     },
     "execution_count": 40,
     "metadata": {},
     "output_type": "execute_result"
    },
    {
     "data": {
      "image/png": "[encoded data removed]",
      "text/plain": [
       "<Figure size 720x576 with 1 Axes>"
      ]
     },
     "metadata": {
      "needs_background": "light"
     },
     "output_type": "display_data"
    }
   ],
   "source": [
    "model = LinearRegression()\n",
    "model.fit(x_test,y_test)\n",
    "y_predicted = model.predict(x_test)\n",
    "\n",
    "plt.figure(figsize=(10,8))\n",
    "plt.title=(\"Accuracy\")\n",
    "sns.scatterplot(x = y_test,y = y_predicted).set(title=\"Linear Regression Accuracy\")\n",
    "plt.xlabel('Truth', fontsize=18)                          \n",
    "plt.ylabel('Predicted', fontsize=16)   "
   ]
  },
  {
   "cell_type": "markdown",
   "id": "e7409a74",
   "metadata": {},
   "source": [
    "<h2>Conclusion<h2>"
   ]
  },
  {
   "cell_type": "markdown",
   "id": "862e13e1",
   "metadata": {},
   "source": [
    "From this exploration of Ford Car Prices, we were successful in being able to predict Ford Car Prices, with out best model being the Decision Tree Classifier with 99% accuracy on the testing set and Linear Regression achieving 75% accuracy. We were also able to visualize the positive and negative correlations with price across the columns, showing that mileage and miles per gallon negatively affect the price while engine size has a strong correlation with price. "
   ]
  },
  {
   "cell_type": "code",
   "execution_count": null,
   "id": "48a0b256",
   "metadata": {},
   "outputs": [],
   "source": []
  }
 ],
 "metadata": {
  "kernelspec": {
   "display_name": "Python 3 (ipykernel)",
   "language": "python",
   "name": "python3"
  },
  "language_info": {
   "codemirror_mode": {
    "name": "ipython",
    "version": 3
   },
   "file_extension": ".py",
   "mimetype": "text/x-python",
   "name": "python",
   "nbconvert_exporter": "python",
   "pygments_lexer": "ipython3",
   "version": "3.9.7"
  }
 },
 "nbformat": 4,
 "nbformat_minor": 5
}
